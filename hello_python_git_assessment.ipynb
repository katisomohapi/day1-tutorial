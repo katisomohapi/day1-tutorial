{
  "cells": [
    {
      "cell_type": "markdown",
      "metadata": {
        "id": "7g4mzlSdpVSQ"
      },
      "source": [
        "# Tutorial: Hello Bash and Python\n",
        "\n",
        "In this tutorial we will familiarise ourselves with bash and python, and Notebooks (inadvertantly). Please load this notebook in `colab.research.google.com` if you do not have a local instance of JupyterHub/JupyterLab running.\n",
        "\n",
        "\n",
        "Submission:\n",
        "\n",
        "The submission for this tutorial requires a submission on Git, as well as one on SUNLearn. You will receive an email to your student account asking you to create an account on Gitlab\n",
        "\n",
        "\n"
      ]
    },
    {
      "cell_type": "code",
      "execution_count": 1,
      "metadata": {
        "id": "_JeFjlXnpVSe"
      },
      "outputs": [],
      "source": [
        "import pandas as pd"
      ]
    },
    {
      "cell_type": "markdown",
      "metadata": {
        "id": "ZIf0UKYVpVSi"
      },
      "source": [
        "## Question 1: Bash\n",
        "\n",
        "Retrieve data and interogate it with bash before using python tooling. This is useful as you may struggle with type or malformed files and a quick interogation may reveal those issues.\n"
      ]
    },
    {
      "cell_type": "markdown",
      "metadata": {
        "id": "e-A20qtvpVSj"
      },
      "source": [
        "### Question 1.1\n",
        "\n",
        "Run the bash command `wget` to retrieve a file located at `https://storage.googleapis.com/bdt-beam/users_v.csv` [1]"
      ]
    },
    {
      "cell_type": "code",
      "execution_count": 2,
      "metadata": {
        "id": "UpZ9E-nPpVSn"
      },
      "outputs": [],
      "source": [
        "!wget -q 'https://storage.googleapis.com/bdt-beam/users_v.csv' -O 'users_v.csv'"
      ]
    },
    {
      "cell_type": "markdown",
      "metadata": {
        "id": "p9NBVC1QpVSp"
      },
      "source": [
        "### Question 1.2\n",
        "\n",
        "Use a bash command to view the top ten elements of the file (to confirm that things are as you expect) [1]"
      ]
    },
    {
      "cell_type": "code",
      "execution_count": 3,
      "metadata": {
        "id": "0RsUoHXIpVSq",
        "outputId": "de16988b-b25e-4f0f-d948-13e8bba09faf",
        "colab": {
          "base_uri": "https://localhost:8080/"
        }
      },
      "outputs": [
        {
          "output_type": "stream",
          "name": "stdout",
          "text": [
            "user_id,name,gender,age,address,date_joined\n",
            "1,Anthony Wolf,male,73,New Rachelburgh-VA-49583,2019/03/13\n",
            "2,James Armstrong,male,56,North Jillianfort-UT-86454,2020/11/06\n",
            "3,Cody Shaw,male,75,North Anne-SC-53799,2004/05/29\n",
            "4,Sierra Hamilton,female,76,New Angelafurt-ME-46190,2005/08/26\n",
            "5,Chase Davis,male,31,South Bethmouth-WI-18562,2018/04/30\n",
            "6,Sierra Andrews,female,21,Ryanville-MI-69690,2007/05/25\n",
            "7,Ann Stone,female,41,Smithmouth-SD-17340,2005/01/05\n",
            "8,Karen Santos,female,34,Mariaville-AK-29888,2003/12/12\n",
            "9,Ronald Meyer,male,41,North Cherylhaven-NJ-04197,2015/11/14\n"
          ]
        }
      ],
      "source": [
        "! head users_v.csv"
      ]
    },
    {
      "cell_type": "markdown",
      "metadata": {
        "id": "tmDEGD-0pVSs"
      },
      "source": [
        "### Question 1.3\n",
        "\n",
        "Use a bash command to determine the number of rows in the file [1]"
      ]
    },
    {
      "cell_type": "code",
      "execution_count": 4,
      "metadata": {
        "id": "zojh4-4UpVSt",
        "outputId": "22e13237-8028-48dd-85bc-eac063ff8584",
        "colab": {
          "base_uri": "https://localhost:8080/"
        }
      },
      "outputs": [
        {
          "output_type": "stream",
          "name": "stdout",
          "text": [
            "2358\n"
          ]
        }
      ],
      "source": [
        "!cat users_v.csv | wc -l"
      ]
    },
    {
      "cell_type": "markdown",
      "metadata": {
        "id": "eRN7VFL2pVSu"
      },
      "source": [
        "### Question 1.4\n",
        "\n",
        "Suppose the file is too large for initial exploration, let's take a quick sample so that we can continue working to see what is in the data set. Loading it into Pandas at this point will mean that we are using all that memory in any case, so let's sample it before we load it.\n",
        "\n",
        "Take a random sample of the file (limited the result to 1000 lines) and create another file called `users_sample.csv`, using only bash commands [3]\n",
        "\n",
        "Hint: redirect a stream into a the output file."
      ]
    },
    {
      "cell_type": "code",
      "execution_count": 5,
      "metadata": {
        "id": "xdX0X4NCpVSw"
      },
      "outputs": [],
      "source": [
        "!shuf -n 10 users_v.csv > users_sample.csv"
      ]
    },
    {
      "cell_type": "markdown",
      "metadata": {
        "id": "cmr5uVwMpVSx"
      },
      "source": [
        "### Question 1.5 \n",
        "\n",
        "* Sort your file by ascending `user_id`s [1]\n",
        "* Overwrite the current `users_sample.csv` with the ordered content [1]\n",
        "* Print the last ten lines of this file [1]"
      ]
    },
    {
      "cell_type": "code",
      "execution_count": 7,
      "metadata": {
        "id": "RzaUVVjapVSy",
        "outputId": "2a8b42ce-c3f2-4a77-a481-bb8d79e8f430",
        "colab": {
          "base_uri": "https://localhost:8080/"
        }
      },
      "outputs": [
        {
          "output_type": "stream",
          "name": "stdout",
          "text": [
            "17,Mikayla Jacobson,female,67,Harrisonhaven-ID-71589,2005/02/23\n",
            "854,Jill Bell,female,72,Port Emily-MS-14625,2007/06/03\n",
            "1042,Heather Barnes,female,70,Bakerhaven-MI-36460,2019/03/01\n",
            "1265,Melissa Cordova,female,43,Stewartshire-IA-12779,2015/11/08\n",
            "1272,Connor Palmer,male,26,Nicolefurt-WI-72889,2000/11/03\n",
            "1390,Julia Vaughan,female,65,Franklinshire-GA-30754,2002/07/22\n",
            "1728,Jennifer Casey,female,70,Theresabury-TN-05417,2013/03/01\n",
            "1976,William Morgan,male,27,Coxhaven-HI-65271,2009/01/30\n",
            "1993,Donna Cooper,female,41,Port Levi-MD-67124,2011/12/28\n",
            "2301,Willie Villegas,male,40,East Drewchester-FL-95044,2007/08/03\n"
          ]
        }
      ],
      "source": [
        "! sort -n users_sample.csv"
      ]
    },
    {
      "cell_type": "markdown",
      "metadata": {
        "id": "4COZmWJrpVSy"
      },
      "source": [
        "## Question 2: Python\n",
        "\n",
        "Perform analysis with Python"
      ]
    },
    {
      "cell_type": "markdown",
      "metadata": {
        "id": "OhGWGVcDpVSz"
      },
      "source": [
        "### Question 2.1\n",
        "\n",
        "Load the original `users_v.csv` into a Pandas dataframe [1]"
      ]
    },
    {
      "cell_type": "code",
      "execution_count": 8,
      "metadata": {
        "id": "7lnHiKq-pVSz"
      },
      "outputs": [],
      "source": [
        "! sort -n users_sample.csv >users_sample_ordered.csv"
      ]
    },
    {
      "cell_type": "markdown",
      "metadata": {
        "id": "ST7AalKtpVS0"
      },
      "source": [
        "### Question 2.2\n",
        "\n",
        "Display/print the top ten lines of the dataframe [1]\n",
        "\n"
      ]
    },
    {
      "cell_type": "code",
      "execution_count": 11,
      "metadata": {
        "id": "tS8lUMeLpVS1",
        "outputId": "cf19c14c-0626-4d99-c594-24ed1e8f8e36",
        "colab": {
          "base_uri": "https://localhost:8080/"
        }
      },
      "outputs": [
        {
          "output_type": "stream",
          "name": "stdout",
          "text": [
            "17,Mikayla Jacobson,female,67,Harrisonhaven-ID-71589,2005/02/23\n",
            "854,Jill Bell,female,72,Port Emily-MS-14625,2007/06/03\n",
            "1042,Heather Barnes,female,70,Bakerhaven-MI-36460,2019/03/01\n",
            "1265,Melissa Cordova,female,43,Stewartshire-IA-12779,2015/11/08\n",
            "1272,Connor Palmer,male,26,Nicolefurt-WI-72889,2000/11/03\n",
            "1390,Julia Vaughan,female,65,Franklinshire-GA-30754,2002/07/22\n",
            "1728,Jennifer Casey,female,70,Theresabury-TN-05417,2013/03/01\n",
            "1976,William Morgan,male,27,Coxhaven-HI-65271,2009/01/30\n",
            "1993,Donna Cooper,female,41,Port Levi-MD-67124,2011/12/28\n",
            "2301,Willie Villegas,male,40,East Drewchester-FL-95044,2007/08/03\n"
          ]
        }
      ],
      "source": [
        "!tail users_sample_ordered.csv"
      ]
    },
    {
      "cell_type": "markdown",
      "metadata": {
        "id": "6xSyFeLApVS1"
      },
      "source": [
        "### Question 2.3\n",
        "\n",
        "Find the age of the oldest and youngest person in the dataset [1]\n",
        "\n",
        "Hint: you can use the `print(..., ...)` function to display the two values if you construct it as two arguments"
      ]
    },
    {
      "cell_type": "code",
      "execution_count": null,
      "metadata": {
        "id": "WRQBzfpHpVS2"
      },
      "outputs": [],
      "source": [
        "data = pd.read_csv('https://storage.googleapis.com/bdt-beam/users_v.csv')\n",
        "data.head(10)\n"
      ]
    },
    {
      "cell_type": "code",
      "source": [
        "print(min(data.age), max(data.age))"
      ],
      "metadata": {
        "id": "gYdbwTHcwgih"
      },
      "execution_count": null,
      "outputs": []
    },
    {
      "cell_type": "markdown",
      "metadata": {
        "id": "fmUIv58bpVS3"
      },
      "source": [
        "### Question 2.4\n",
        "\n",
        "Draw descriptive statistics (one-liner) for the `age` column - these statistics should include `count`, `mean`, and `std` [1]\n",
        "\n",
        "Hint: this command has a parallel in R"
      ]
    },
    {
      "cell_type": "code",
      "execution_count": null,
      "metadata": {
        "id": "GaI2ngATpVS4"
      },
      "outputs": [],
      "source": [
        "data.describe()"
      ]
    },
    {
      "cell_type": "markdown",
      "metadata": {
        "id": "p_xoRYXlpVS5"
      },
      "source": [
        "### Question 2.5\n",
        "\n",
        "* Using anonymous functions (`lambda`), create a `surname` column from the name column (you may assume that the last word without a space is the surname) [2]\n",
        "* Display the last 10 lines of your dataframe [1]\n"
      ]
    },
    {
      "cell_type": "code",
      "execution_count": null,
      "metadata": {
        "id": "JO96GnB_pVS5"
      },
      "outputs": [],
      "source": [
        ""
      ]
    },
    {
      "cell_type": "markdown",
      "metadata": {
        "id": "_yTV1jnopVS6"
      },
      "source": [
        "### Question 2.6\n",
        "\n",
        "* Convert `date_joined` to a pandas series of type `datetime`  [1]\n",
        "* Overwrite the original `date_joined` column with the result [1]"
      ]
    },
    {
      "cell_type": "code",
      "execution_count": null,
      "metadata": {
        "id": "LNKswH6fpVS6"
      },
      "outputs": [],
      "source": [
        ""
      ]
    },
    {
      "cell_type": "code",
      "execution_count": null,
      "metadata": {
        "id": "BzEkWfE0pVS6"
      },
      "outputs": [],
      "source": [
        ""
      ]
    },
    {
      "cell_type": "markdown",
      "metadata": {
        "id": "d_t_7RnmpVS6"
      },
      "source": [
        "## Question 3: Git\n",
        "\n",
        "Push your notebook to Git. If you don't have any Git tooling installed on your machines, download a preferred tool.\n",
        "\n",
        " * Create a repository (named `day1-tutorial`) on Gitlab (check your student email for sign-up/membership request to Gitlab) [1]\n",
        " * Push this notebook to that repository [1]"
      ]
    },
    {
      "cell_type": "code",
      "execution_count": null,
      "metadata": {
        "id": "w6ioIypxpVS7"
      },
      "outputs": [],
      "source": [
        ""
      ]
    },
    {
      "cell_type": "markdown",
      "metadata": {
        "id": "tjBeaK9kpVS7"
      },
      "source": [
        "## The End\n",
        "\n",
        "Now that it is a datetime, we can how many users signed up/registered."
      ]
    },
    {
      "cell_type": "code",
      "execution_count": null,
      "metadata": {
        "id": "FE2LJAnPpVS8"
      },
      "outputs": [],
      "source": [
        "import matplotlib\n",
        "\n",
        "%matplotlib inline \n",
        "\n",
        "df.user_id.groupby([df.date_joined.dt.year]).count().plot(kind=\"bar\")"
      ]
    },
    {
      "cell_type": "code",
      "execution_count": null,
      "metadata": {
        "id": "XgvXupPEpVS_"
      },
      "outputs": [],
      "source": [
        ""
      ]
    }
  ],
  "metadata": {
    "kernelspec": {
      "display_name": "bdt-a3",
      "language": "python",
      "name": "bdt-a3"
    },
    "language_info": {
      "codemirror_mode": {
        "name": "ipython",
        "version": 3
      },
      "file_extension": ".py",
      "mimetype": "text/x-python",
      "name": "python",
      "nbconvert_exporter": "python",
      "pygments_lexer": "ipython3",
      "version": "3.6.9"
    },
    "colab": {
      "name": "hello-python-git-assessment.ipynb",
      "provenance": []
    }
  },
  "nbformat": 4,
  "nbformat_minor": 0
}